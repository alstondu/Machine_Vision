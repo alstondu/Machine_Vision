{
 "cells": [
  {
   "attachments": {},
   "cell_type": "markdown",
   "id": "8b62da0d",
   "metadata": {},
   "source": [
    "# Machine Vision - Practical 10 - Applied Deep Learning"
   ]
  },
  {
   "cell_type": "markdown",
   "id": "f11bbd7f",
   "metadata": {},
   "source": [
    "You are going to tackle the problem of Image Classification on a challenging real-world task. In particular, we will try to recognize species in photos captured from camera traps i.e. static cameras set up in the wild using Deep Learning. The dataset used here is a subset from the Caltech Camera Traps collection (Beery et al., 2018).\n",
    "\n",
    "On top of this notebook, there are some functions that need customization:\n",
    " Certain functions we will need are not yet implemented: \n",
    " - [Data Loading Utilities](dataset.py)\n",
    " - [Other Useful Utilities](training_utils.py)\n",
    " \n",
    "You are tasked with the completion of the missing code but are not restricted by the requirements defined. This is a real-world computer vision problem so you can **be creative** especially after you are done with the main TODO tasks!"
   ]
  },
  {
   "cell_type": "markdown",
   "id": "37a87882",
   "metadata": {},
   "source": [
    "# Task 0: Downloading Data and Installing Libraries"
   ]
  },
  {
   "cell_type": "markdown",
   "id": "39d99f12",
   "metadata": {},
   "source": [
    "### TODO 0A: Download Camera Trap data \n",
    "Download the file *cct20_crops.zip* from Moodle and unzip its contents in the working directory where this Notebook exists.\n",
    "These components should be:\n",
    "* **train/**,**validation/** and **test/** directories that correpond to the training, validation and test images respectively\n",
    "* **cct20_labels.json**: Meta file that points to sets of image paths and labels for each of train, validation and test splits. The splits here correspond to the splits provided by the providers of the dataset. This split corresponds to a realistic scenario where testing data contain some images that come from locations that are unseen in the training set.\n",
    "* **cct20_labels_large.json**: Similar to above but with double number of images used in the training set\n",
    "* **cct20_labels_random.json** Similar to cct20_labels.json but train, validation, test splits are defined randomly.\n",
    "<br><br>"
   ]
  },
  {
   "cell_type": "markdown",
   "id": "ef27cb35",
   "metadata": {},
   "source": [
    "### TODO 0B:  Install Additional Libraries \n",
    "In addition to libraries installed in previous labs **PyTorch, Torchvision and PIL** should be installed for this task. \n",
    "\n",
    "#### Installing PyTorch / Torchvision\n",
    "\n",
    "The PyTorch version usually depends on the computation capabilities of the machine. However, we tried to keep the requirements minimal (installing the CPU version) so that the lab runs smoothly for everyone.<br>\n",
    "\n",
    "You can install this library in your existing anaconda environment used for the Machine Vision course by running the following: <br> <br>\n",
    "```conda install pytorch torchvision cpuonly -c pytorch``` \n",
    "\n",
    "Alternatively, if the above command does not work for you seek instructions [here](https://pytorch.org/get-started/locally/):   <br>\n",
    "\n",
    "#### Installing PIL\n",
    "```conda install -c anaconda pillow``` \n",
    "<br><br>"
   ]
  },
  {
   "cell_type": "markdown",
   "id": "99eb7e5e",
   "metadata": {},
   "source": [
    "### TODO 0C  Exploit the rich documentation of PyTorch \n",
    "You may find practical help for the tools used on this lab under the [PyTorch](https://pytorch.org/docs/stable/index.html) or [Torchvision](https://pytorch.org/vision/stable/) documentations.\n",
    "<br><br>"
   ]
  },
  {
   "cell_type": "markdown",
   "id": "bef63c68",
   "metadata": {},
   "source": [
    "---"
   ]
  },
  {
   "cell_type": "markdown",
   "id": "0300756b",
   "metadata": {},
   "source": [
    "Loading Libraries"
   ]
  },
  {
   "cell_type": "code",
   "execution_count": 1,
   "id": "19ec85ba",
   "metadata": {},
   "outputs": [],
   "source": [
    "%reload_ext autoreload\n",
    "%autoreload 2\n",
    "\n",
    "import os\n",
    "import json\n",
    "import numpy as np\n",
    "import matplotlib\n",
    "import matplotlib.pyplot as plt\n",
    "import copy\n",
    "\n",
    "from PIL import Image\n",
    "import torchvision\n",
    "import torch\n",
    "from torch.utils.data import DataLoader\n",
    "import torchvision.transforms as T\n",
    "import torchvision.models as models\n",
    "\n",
    "matplotlib.use('TkAgg')\n",
    "%matplotlib inline\n",
    "\n",
    "## NOTE: Reload the following libraries when functions and utilities are implemented\n",
    "from dataset import CTDataset ##needs to be implemented (see below)\n",
    "from training_utils import train,validate, accuracy #train, validate need to be implemented (see below)"
   ]
  },
  {
   "cell_type": "markdown",
   "id": "1a8e5484",
   "metadata": {},
   "source": [
    "---"
   ]
  },
  {
   "cell_type": "markdown",
   "id": "58f0f06a",
   "metadata": {},
   "source": [
    "# Task 1: Loading and Preparing Data"
   ]
  },
  {
   "cell_type": "code",
   "execution_count": 2,
   "id": "46400795",
   "metadata": {},
   "outputs": [],
   "source": [
    "device='cpu'\n",
    "## NOTE: \n",
    "## If you have a machine with a gpu and have installed the respective PyTorch version you an uncomment\n",
    "## the following codeblock for faster experimentation\n",
    "\n",
    "# if torch.cuda.is_available():\n",
    "#     device = 'cuda'\n",
    "# else:\n",
    "#     device = 'cpu'"
   ]
  },
  {
   "cell_type": "markdown",
   "id": "c0c431d0",
   "metadata": {},
   "source": [
    "### Load annotation and path file\n",
    "We load a python dictionary that for each of the train, validation and test splits has a list of rows that correspond to the path of the image, the target id and the class name correspond to this target id. <br>\n",
    "Our training set consists of 12606 images that are distributed (in an imbalanced manner) across 15 species. Some of them are well represented and some not, some appear during day and some during night. In addition the data come from diverse locations and for some of them there is no overlap between the defined training and test sets.<br>"
   ]
  },
  {
   "cell_type": "code",
   "execution_count": 3,
   "id": "c6dd459a",
   "metadata": {},
   "outputs": [],
   "source": [
    "# Dictionary with train,val and test data and every row in format [img_path, class id, class name]\n",
    "with open('cct20_labels.json') as f:\n",
    "    cct20_dict = json.load(f) "
   ]
  },
  {
   "cell_type": "code",
   "execution_count": 4,
   "id": "dcce11c2",
   "metadata": {},
   "outputs": [
    {
     "name": "stdout",
     "output_type": "stream",
     "text": [
      "Total of 15 classes in the training set. \n",
      "These are:opossum, badger, bird, coyote, raccoon, dog, bobcat, rabbit, squirrel, fox, skunk, car, rodent, deer, cat\n"
     ]
    }
   ],
   "source": [
    "## list all species in training set\n",
    "all_classes = list(set([row[2] for row in cct20_dict['train']]))\n",
    "num_classes = len(all_classes) \n",
    "print('Total of {} classes in the training set. \\nThese are:{}'.format(num_classes,', '.join(all_classes)))"
   ]
  },
  {
   "cell_type": "markdown",
   "id": "7ea56b80",
   "metadata": {},
   "source": [
    "#### Parameters\n",
    "Some parameters for the upcoming tasks. You can play with these later and observe how performance is affected (if computation capabilities allow)."
   ]
  },
  {
   "cell_type": "code",
   "execution_count": 5,
   "id": "ed33ff4a",
   "metadata": {},
   "outputs": [],
   "source": [
    "initial_img_res=32 #initial image resolution (resize and crop might have a different resolution, i.e. if we want the crop to be a subset of the original image for extra variation\n",
    "#final_img_res = 50\n",
    "final_img_res = 32 #final image resolution\n",
    "batch_size = 32 #batch_size\n",
    "num_epochs = 10 #number of training epochs"
   ]
  },
  {
   "cell_type": "markdown",
   "id": "36c10df1",
   "metadata": {},
   "source": [
    "### TODO 1A: Pick a set of augmentations for training and validation set of the given task\n",
    "During deep learning training, image augmentations can be used to provide a variety in the visual appearance of the input data given that the learning stage comprises of multiple epochs/steps.\n",
    "There is not a unique correct answer here but try to choose a reasonable set of augmentations should for the task at hand.<br><br>\n",
    "**Please fill the following cell**"
   ]
  },
  {
   "cell_type": "code",
   "execution_count": 6,
   "id": "3ae0dc89",
   "metadata": {},
   "outputs": [],
   "source": [
    "## TODO: Comment out the following transformation placeholders and implement a reasonable set of transformations for the task at hand\n",
    "train_transform = T.Compose([])\n",
    "val_test_transform = T.Compose([])\n",
    "\n",
    "train_transform = T.Compose([\n",
    "    T.Resize(size=(initial_img_res,initial_img_res)),\n",
    "    T.ToTensor(),\n",
    "    ])\n",
    "\n",
    "val_test_transform = T.Compose([\n",
    "    T.Resize(size=(initial_img_res,initial_img_res)),\n",
    "    T.ToTensor(),\n",
    "    ])\n",
    "batch_size=1\n",
    "## Other Reasonable Transformations to include in the final set of composed augmentations:\n",
    "\n",
    "## Color Jittering\n",
    "# T.RandomApply([T.ColorJitter(brightness=0.5, contrast=0.5, saturation=0.5, hue=0.1)]) \n",
    "\n",
    "## Normalization with ImageNet image statistics. NOTE: needs to take place with image in Tensor format\n",
    "# T.Normalize(mean = [ 0.485, 0.456, 0.406 ],std = [ 0.229, 0.224, 0.225 ]) "
   ]
  },
  {
   "cell_type": "markdown",
   "id": "1bc5b7bb",
   "metadata": {},
   "source": [
    "### TODO 1B: Edit the camera trap dataset class [CTDataset](dataset.py )\n",
    "The Dataset class defines how our training, validation and test datasets are initialized and what is returned when we load data every iteration. Currently CTDataset is a placeholder class under dataset.py. \n",
    "We want CTDataset class to receive as **input** the annotation file loaded above but for the particular split (train,validation,test) and the transformation implemented in the above task and **return** for each item in the batch a dictionary with the following key entries: *'img_path', 'target' and 'species'* (information from cct20_labels.json). To get inspiration about custom dataset class construction take a look at [this link](https://pytorch.org/tutorials/beginner/basics/data_tutorial.html).<br><br>\n",
    "\n",
    "**Fill CTDataset dataset.py for this task**."
   ]
  },
  {
   "cell_type": "markdown",
   "id": "94b0cba6",
   "metadata": {},
   "source": [
    "For each split we define the dataset classes based on CTDataset class and the respective set of annotations and transformations"
   ]
  },
  {
   "cell_type": "code",
   "execution_count": 7,
   "id": "857e52dd",
   "metadata": {},
   "outputs": [],
   "source": [
    "train_set = CTDataset(annotation_dict=cct20_dict['train'],transform=train_transform)\n",
    "val_set = CTDataset(annotation_dict=cct20_dict['validation'],transform=val_test_transform)\n",
    "test_set = CTDataset(annotation_dict=cct20_dict['test'],transform=val_test_transform)"
   ]
  },
  {
   "cell_type": "markdown",
   "id": "e0161a8f",
   "metadata": {},
   "source": [
    "Definition of data loaders for the predefined sets.\n",
    "To learn more about how data loaders work follow this [link](https://pytorch.org/tutorials/beginner/basics/data_tutorial.html) from the PyTorch documentation."
   ]
  },
  {
   "cell_type": "code",
   "execution_count": 8,
   "id": "669aed76",
   "metadata": {},
   "outputs": [],
   "source": [
    "train_loader = DataLoader(dataset=train_set, batch_size=batch_size, shuffle=True)\n",
    "val_loader = DataLoader(dataset=val_set, batch_size=batch_size, shuffle=False)\n",
    "test_loader = DataLoader(dataset=test_set, batch_size=batch_size, shuffle=False)"
   ]
  },
  {
   "cell_type": "markdown",
   "id": "d16ef825",
   "metadata": {},
   "source": [
    "### Show how transformed images look like\n",
    "We preview what kind of transformations come out of the constructed Dataloaders. Below, we see differently augmented versions (some augmentations are stochastic) for each of the images subsampled from the constructed training set."
   ]
  },
  {
   "cell_type": "code",
   "execution_count": 9,
   "id": "2c05d549",
   "metadata": {},
   "outputs": [
    {
     "data": {
      "image/png": "[encoded data removed]",
      "text/plain": [
       "<Figure size 864x432 with 21 Axes>"
      ]
     },
     "metadata": {
      "needs_background": "light"
     },
     "output_type": "display_data"
    }
   ],
   "source": [
    "total_images = 7\n",
    "total_iter = 3\n",
    "\n",
    "np.random.seed(42)\n",
    "random_image_idx =np.random.choice(list(range(0, len(train_set))),total_images)\n",
    "train_set_subset = torch.utils.data.Subset(train_set, random_image_idx)\n",
    "\n",
    "random_images = np.random.choice(range(0,batch_size),total_images)\n",
    "fig,ax = plt.subplots(total_iter,total_images,figsize=(12,6))\n",
    "for i in range(total_iter):\n",
    "    train_loader_example = DataLoader(train_set_subset, batch_size=total_images, shuffle=False,drop_last=False)\n",
    "    loaded_sample = next(iter(train_loader_example))\n",
    "    for j in range(total_images):\n",
    "        ax[i,j].imshow(np.array(loaded_sample['img'][j].permute([1,2,0]).cpu()))\n",
    "        ax[i,j].set_title(loaded_sample['species'][j])\n",
    "plt.tight_layout()"
   ]
  },
  {
   "cell_type": "markdown",
   "id": "5f88e104",
   "metadata": {},
   "source": [
    "# Task 2 - Training and Evaluation"
   ]
  },
  {
   "cell_type": "markdown",
   "id": "915d898c",
   "metadata": {},
   "source": [
    "### TODO 2A: Implement the [train](training_utils.py) and [validate](training_utils.py) utility functions\n",
    "The dataloaders defined above load the data for each batch either during the training or the inference stage. The train and validate functions correspond to the actions taken during a step/epoch of the training or validation phase respectively. The main difference is that during the training phase optimization takes place and the gradients are updated based on the defined loss function."
   ]
  },
  {
   "cell_type": "markdown",
   "id": "9dbab176",
   "metadata": {},
   "source": [
    "#### Training a model from Scratch\n",
    "We are going to use one of the convolutional neural network architectures already implemented in torchvision and train it from scratch on species recognition on Caltech Camera Traps (CCT20). If you wanna learn more about the network architectures follow the torchvision documentation or read the respective paper that suggested it."
   ]
  },
  {
   "cell_type": "code",
   "execution_count": 10,
   "id": "0065fe13",
   "metadata": {},
   "outputs": [
    {
     "data": {
      "text/plain": [
       "<torch._C.Generator at 0x7f6a91d57710>"
      ]
     },
     "execution_count": 10,
     "metadata": {},
     "output_type": "execute_result"
    }
   ],
   "source": [
    "## set a constant instead of random seed for repeatability\n",
    "torch.manual_seed(42)"
   ]
  },
  {
   "cell_type": "code",
   "execution_count": 11,
   "id": "80c5f71a",
   "metadata": {},
   "outputs": [],
   "source": [
    "## Loading a model implemented in PyTorch \n",
    "## ResNet18 is picked arbitrarily here, we can select other architectures supported.\n",
    "model = models.resnet18()\n",
    "## Input Features before final layer of the model\n",
    "num_ftrs = model.fc.in_features\n",
    "## Alternatively, it can be generalized to nn.Linear(num_ftrs, len(class_names)).Output size equals the number of classes.  There are 15 classes in CCT20\n",
    "model.fc = torch.nn.Linear(num_ftrs, num_classes)\n",
    "model = model.to(device)\n",
    "criterion = torch.nn.CrossEntropyLoss()\n",
    "## Observe that all parameters are being optimized\n",
    "optimizer = torch.optim.SGD(model.parameters(), lr=0.001, momentum=0.9)"
   ]
  },
  {
   "cell_type": "code",
   "execution_count": 12,
   "id": "779edfe9",
   "metadata": {},
   "outputs": [
    {
     "data": {
      "text/plain": [
       "[0]"
      ]
     },
     "execution_count": 12,
     "metadata": {},
     "output_type": "execute_result"
    }
   ],
   "source": [
    "train_set.targets"
   ]
  },
  {
   "cell_type": "markdown",
   "id": "acad1153",
   "metadata": {},
   "source": [
    "Training model from scratch... As the final model we keep the one that achieved the highest validation accuracy during training. <br>\n",
    "**TODO: Uncomment the loop that runs train(), validate() etc. when you have implemented them**"
   ]
  },
  {
   "cell_type": "code",
   "execution_count": 13,
   "id": "fb218d8a",
   "metadata": {},
   "outputs": [],
   "source": [
    "best_val_acc = 0\n",
    "best_model_wts = copy.deepcopy(model.state_dict())\n",
    "train_acc_list = []\n",
    "val_acc_list = []\n",
    "# ## TODO: Uncomment the following lines when ready\n",
    "# # main train loop\n",
    "# for epoch in range(0, num_epochs):\n",
    "#     print(\"Train epoch {} ... \\n\".format(epoch))\n",
    "#     train_loss,train_acc = train(train_loader, model, criterion,optimizer, device)  \n",
    "#     val_loss, val_acc,_ = validate(val_loader,model,criterion,device,split='val')\n",
    "    \n",
    "#     train_acc_list.append(train_acc)\n",
    "#     val_acc_list.append(val_acc)\n",
    "    \n",
    "#     if val_acc>best_val_acc:\n",
    "#         print('New best validation accuracy on epoch {} \\n \\n'.format(epoch))\n",
    "#         best_val_acc = val_acc\n",
    "#         best_epoch = epoch\n",
    "#         best_model_wts = copy.deepcopy(model.state_dict())\n",
    "        \n",
    "# print(f'Best validation Accuracy: {best_val_acc:4f} achieved on epoch {best_epoch}')"
   ]
  },
  {
   "cell_type": "markdown",
   "id": "7361b4f8",
   "metadata": {},
   "source": [
    "#### Training Accuracy vs Validation Accuracy across the epochs of training (Plot)\n",
    "We plot the progress of the training and the validation accuracy given predictions by the model during its training stages. Are we overfitting? "
   ]
  },
  {
   "cell_type": "code",
   "execution_count": 14,
   "id": "80764957",
   "metadata": {},
   "outputs": [
    {
     "data": {
      "image/png": "[encoded data removed]",
      "text/plain": [
       "<Figure size 432x288 with 1 Axes>"
      ]
     },
     "metadata": {
      "needs_background": "light"
     },
     "output_type": "display_data"
    }
   ],
   "source": [
    "plt.title('Training vs Validation Accuracy during training')\n",
    "plt.plot(train_acc_list,color='blue',  label = 'Training Set')\n",
    "plt.plot(val_acc_list,color='orange',  label = 'Validation Set')\n",
    "plt.xlabel('Epochs')\n",
    "plt.ylabel('Top-1 Accuracy (%)')\n",
    "plt.legend()\n",
    "plt.show()"
   ]
  },
  {
   "cell_type": "markdown",
   "id": "6c6bf39d",
   "metadata": {},
   "source": [
    "#### Apply best model on the unseen test set"
   ]
  },
  {
   "cell_type": "code",
   "execution_count": 15,
   "id": "2b13d143",
   "metadata": {},
   "outputs": [
    {
     "data": {
      "text/plain": [
       "<All keys matched successfully>"
      ]
     },
     "execution_count": 15,
     "metadata": {},
     "output_type": "execute_result"
    }
   ],
   "source": [
    "# load best model weights\n",
    "model.load_state_dict(best_model_wts)"
   ]
  },
  {
   "cell_type": "code",
   "execution_count": 16,
   "id": "f7d2ded6",
   "metadata": {},
   "outputs": [
    {
     "name": "stdout",
     "output_type": "stream",
     "text": [
      "Test prec@1 nan\n",
      "Test loss nan\n",
      "\n"
     ]
    },
    {
     "name": "stderr",
     "output_type": "stream",
     "text": [
      "/home/omi/miniconda3/envs/biome_ct/lib/python3.8/site-packages/numpy/core/fromnumeric.py:3440: RuntimeWarning: Mean of empty slice.\n",
      "  return _methods._mean(a, axis=axis, dtype=dtype,\n",
      "/home/omi/miniconda3/envs/biome_ct/lib/python3.8/site-packages/numpy/core/_methods.py:189: RuntimeWarning: invalid value encountered in double_scalars\n",
      "  ret = ret.dtype.type(ret / rcount)\n"
     ]
    }
   ],
   "source": [
    "## Evaluate on unseen test set\n",
    "_, test_acc,preds = validate(test_loader,model,criterion,device,split='test')"
   ]
  },
  {
   "cell_type": "markdown",
   "id": "e8b7ba2e",
   "metadata": {},
   "source": [
    "#### Accuracy per Species (Plot)\n",
    "In situations with class imbalance it's **important** to evaluate accuracy across labels or calculate metrics that are robust against imbalance. This evaluation takes place on predictions coming from the test set."
   ]
  },
  {
   "cell_type": "code",
   "execution_count": 17,
   "id": "de570ce1",
   "metadata": {},
   "outputs": [],
   "source": [
    "## given returned list of predictions and ground truth we calculate and plot accuracy per target\n",
    "correct_per_target = (np.array(test_set.targets) == np.array(preds))\n",
    "correct_per_species = {}\n",
    "if len(correct_per_target)>0: # to not break when we run the functions with placeholders (before tasks are done)\n",
    "    for i,species in enumerate(test_set.species):\n",
    "        if species not in correct_per_species:\n",
    "            correct_per_species[species] = []\n",
    "        correct_per_species[species].append(correct_per_target[i])\n",
    "    species_ordered = sorted(correct_per_species.keys())\n",
    "    acc_per_species = []\n",
    "    for species in species_ordered:\n",
    "        acc_per_species.append(np.mean(correct_per_species[species])*100)\n",
    "\n",
    "    plt.title('Accuracy across Camera Trap Species')\n",
    "    plt.bar(species_ordered,acc_per_species)\n",
    "    plt.xlabel('Species')\n",
    "    plt.xticks(rotation = 90)\n",
    "    plt.ylabel('Top-1 Accuracy')\n",
    "    plt.ylim(0,100)\n",
    "    plt.show()\n",
    "    ## NOTE: badger and deer are very underrepresented"
   ]
  },
  {
   "cell_type": "markdown",
   "id": "d15ea779",
   "metadata": {},
   "source": [
    "#### Transfer Learning\n",
    "Now let's use the same architecture used above (i.e. ResNet18) but instead start from a pretrained version (ImageNet weights) instead of training from scratch.Transfer-learning from models pretrained on larger datasets is quite common practice in computer vision, i.e. models can be pretrained on ImageNet which instead totals around 1 million images that cover 1000 different classes."
   ]
  },
  {
   "cell_type": "code",
   "execution_count": 18,
   "id": "b9c84840",
   "metadata": {},
   "outputs": [],
   "source": [
    "## Loading a model implemented in PyTorch PRETRAINED on ImageNet \n",
    "## ResNet18 is picked arbitrarily here, we can select other architectures supported.\n",
    "model = models.resnet18(pretrained=True)\n",
    "## Input Features before final layer of the model\n",
    "num_ftrs = model.fc.in_features\n",
    "## Alternatively, it can be generalized to nn.Linear(num_ftrs, len(class_names)).Output size equals the number of classes.  There are 15 classes in CCT20.\n",
    "model.fc = torch.nn.Linear(num_ftrs, num_classes)\n",
    "model = model.to(device)\n",
    "criterion = torch.nn.CrossEntropyLoss()\n",
    "## Observe that all parameters are being optimized\n",
    "optimizer = torch.optim.SGD(model.parameters(), lr=0.001, momentum=0.9)"
   ]
  },
  {
   "cell_type": "markdown",
   "id": "e81903c3",
   "metadata": {},
   "source": [
    "Finetuning model on top of weights learnt from ImageNet. As the final model we keep the one that achieved the highest validation accuracy during training.<br>\n",
    "**TODO: Uncomment the loop that runs train(), validate() etc. when you have implemented them**"
   ]
  },
  {
   "cell_type": "code",
   "execution_count": 19,
   "id": "e68aa69b",
   "metadata": {},
   "outputs": [],
   "source": [
    "best_val_acc = 0\n",
    "best_model_wts = copy.deepcopy(model.state_dict())\n",
    "train_acc_list = []\n",
    "val_acc_list = []\n",
    "\n",
    "## TODO: Uncomment the following lines when ready\n",
    "# main train loop\n",
    "# for epoch in range(0, num_epochs):  \n",
    "#     print(\"Train epoch {} ... \\n\".format(epoch))\n",
    "  \n",
    "#     train_loss,train_acc = train(train_loader, model, criterion,optimizer,device)  \n",
    "#     val_loss, val_acc,_ = validate(val_loader,model,criterion,device,split='val')\n",
    "    \n",
    "#     train_acc_list.append(train_acc)\n",
    "#     val_acc_list.append(val_acc)\n",
    "    \n",
    "#     if val_acc>best_val_acc:\n",
    "#         print('New best validation accuracy on epoch {} \\n \\n'.format(epoch))\n",
    "#         best_val_acc = val_acc\n",
    "#         best_epoch = epoch\n",
    "#         best_model_wts = copy.deepcopy(model.state_dict())\n",
    "        \n",
    "# print(f'Best validation Accuracy: {best_val_acc:4f} achieved on epoch {best_epoch}')"
   ]
  },
  {
   "cell_type": "markdown",
   "id": "af3560e4",
   "metadata": {},
   "source": [
    "#### Training Accuracy vs Validation Accuracy across the epochs of training (Plot)\n",
    "We plot the progress of the training and the validation accuracy given predictions by the model during its training stages. Are we overfitting? "
   ]
  },
  {
   "cell_type": "code",
   "execution_count": 20,
   "id": "5732bd6a",
   "metadata": {},
   "outputs": [
    {
     "data": {
      "image/png": "[encoded data removed]",
      "text/plain": [
       "<Figure size 432x288 with 1 Axes>"
      ]
     },
     "metadata": {
      "needs_background": "light"
     },
     "output_type": "display_data"
    }
   ],
   "source": [
    "plt.title('Training vs Validation Accuracy during training')\n",
    "plt.plot(train_acc_list,color='blue',  label = 'Training Set')\n",
    "plt.plot(val_acc_list,color='orange',  label = 'Validation Set')\n",
    "plt.xlabel('Epochs')\n",
    "plt.ylabel('Top-1 Accuracy (%)')\n",
    "plt.legend()\n",
    "plt.show()"
   ]
  },
  {
   "cell_type": "markdown",
   "id": "767b98aa",
   "metadata": {},
   "source": [
    "#### Apply best model on the unseen test set"
   ]
  },
  {
   "cell_type": "code",
   "execution_count": 21,
   "id": "560c485a",
   "metadata": {},
   "outputs": [
    {
     "data": {
      "text/plain": [
       "<All keys matched successfully>"
      ]
     },
     "execution_count": 21,
     "metadata": {},
     "output_type": "execute_result"
    }
   ],
   "source": [
    "# load best model weights\n",
    "model.load_state_dict(best_model_wts)"
   ]
  },
  {
   "cell_type": "code",
   "execution_count": 22,
   "id": "c53f02d4",
   "metadata": {},
   "outputs": [
    {
     "name": "stdout",
     "output_type": "stream",
     "text": [
      "Test prec@1 nan\n",
      "Test loss nan\n",
      "\n"
     ]
    }
   ],
   "source": [
    "## Evaluate on unseen test set\n",
    "_, test_acc,preds = validate(test_loader,model,criterion,device,split='test')"
   ]
  },
  {
   "cell_type": "markdown",
   "id": "9a916dc7",
   "metadata": {},
   "source": [
    "#### Accuracy per Speciesc (Plot)\n",
    "In situations with class imbalance it's **important** to evaluate accuracy across labels or calculate metrics that are robust against imbalance. This evaluation takes place on predictions coming from the test set."
   ]
  },
  {
   "cell_type": "code",
   "execution_count": 23,
   "id": "daafc48f",
   "metadata": {},
   "outputs": [],
   "source": [
    "## given returned list of predictions and ground truth we calculate and plot accuracy per target\n",
    "correct_per_target = (np.array(test_set.targets) == np.array(preds))\n",
    "correct_per_species = {}\n",
    "if len(correct_per_target)>0: # to not break when we run the functions with placeholders (before tasks are done)\n",
    "    for i,species in enumerate(test_set.species):\n",
    "        if species not in correct_per_species:\n",
    "            correct_per_species[species] = []\n",
    "        correct_per_species[species].append(correct_per_target[i])\n",
    "    species_ordered = sorted(correct_per_species.keys())\n",
    "    acc_per_species = []\n",
    "    for species in species_ordered:\n",
    "        acc_per_species.append(np.mean(correct_per_species[species])*100)\n",
    "\n",
    "    plt.title('Accuracy across Camera Trap Species')\n",
    "    plt.bar(species_ordered,acc_per_species)\n",
    "    plt.xlabel('Species')\n",
    "    plt.xticks(rotation = 90)\n",
    "    plt.ylabel('Top-1 Accuracy (%)')\n",
    "    plt.ylim(0,100)\n",
    "    plt.show()\n",
    "    ## NOTE: badger and deer are very underrepresented"
   ]
  },
  {
   "cell_type": "markdown",
   "id": "783a3c2c",
   "metadata": {},
   "source": [
    "### Task 2B: Larger training size\n",
    "\n",
    "Now let's use a larger portion of data in our training set.\n",
    "* Replace *cct20_labels.json* with *cct20_labels_large.json*\n",
    "* Re-run the above chunk of code. You can run either training from random initialization OR transfer learning for simplicity\n",
    "* What are your findings on the results after increasing the training data?\n"
   ]
  },
  {
   "cell_type": "markdown",
   "id": "e0d6d0e6",
   "metadata": {},
   "source": [
    "### Task 2C: Alternative splits where data are split differently\n",
    "\n",
    "Similarly to above, we replace dataset with an alternative version. Here we use the same images as in *cct20_labels.json* but the train/validation/test splits are selected randomly. \n",
    "* Replace *cct20_labels.json* with *cct20_labels_random.json*\n",
    "* Re-run the above chunk of code. You can run either training from random initialization OR transfer learning for simplicity\n",
    "* What are your findings on the results after training with random? What's the relationship between the training and the validation/test loss now?"
   ]
  },
  {
   "cell_type": "markdown",
   "id": "bd03f20a",
   "metadata": {},
   "source": [
    "## Additional Tasks (Optional)\n",
    "* You can **run for more epochs** to actually reach a point where the model converges. It just takes a lot of time for this lab session\n",
    "* Experiment **by changing the utilized loss function or the gradient optimizer and** its parameters. \n",
    "* Select **different augmentations or the training images to be loaded**. \n",
    "* Select final model based on a different criterion. I.e. model that came out from last training step instead of one corresponding to the validation accuracy.\n",
    "* **Increase image size** from 32 by 32. Actually that is quite small. Classes with fine-grained differences might suffer from low resolution. A resolution around 128 would make more sense but hard to process without a GPU.\n",
    "* **Use larger model**. Likewise, it's fair to assume that using a better backbone, e.g. by replacing the pre-implemented ResNet18 with a ResNet50 which has double the size of parameters will lead to better performance. Again, to use a larger backbone model you'll probably need a large machine"
   ]
  }
 ],
 "metadata": {
  "kernelspec": {
   "display_name": "Python [conda env:biome_ct] *",
   "language": "python",
   "name": "conda-env-biome_ct-py"
  },
  "language_info": {
   "codemirror_mode": {
    "name": "ipython",
    "version": 3
   },
   "file_extension": ".py",
   "mimetype": "text/x-python",
   "name": "python",
   "nbconvert_exporter": "python",
   "pygments_lexer": "ipython3",
   "version": "3.8.0"
  }
 },
 "nbformat": 4,
 "nbformat_minor": 5
}
