{
 "cells": [
  {
   "cell_type": "markdown",
   "metadata": {},
   "source": [
    "# Machine Vision Neural Network tutorial - Part 1\n",
    "\n",
    " You are going to train a small multilayer perceptron (MLP) to classify some toy data points in a 2D-space. \n",
    "\n",
    " The multilayer perceptron is implemented in \"mlp.py\" file.\n",
    " \n",
    " TODO 0: Please read the code of [mlp.py](http://localhost:8888/edit/mlp.py) before proceeding.\n",
    "\n",
    " Certain methods (functions) are not implemented: \n",
    " - [Rectified Linear Unit](http://localhost:8888/edit/layers/relu_layer.py)\n",
    " - [Affine layer](http://localhost:8888/edit/layers/affine_layer.py)\n",
    " - [Crossentropy-softmax layer](http://localhost:8888/edit/layers/crossentropy_softmax_layer.py)\n",
    " \n",
    "Your task is to complete the missing code. The code below does not need to be editted: the functions are tested to ensure that the implementation is correct."
   ]
  },
  {
   "cell_type": "code",
   "execution_count": null,
   "metadata": {
    "collapsed": true
   },
   "outputs": [],
   "source": [
    "import tests"
   ]
  },
  {
   "cell_type": "markdown",
   "metadata": {},
   "source": [
    "# TODO 1: Implement [ReLU layer](http://localhost:8888/edit/layers/relu_layer.py)\n",
    "See [sigmoid_layer.py](layers/sigmoid_layer.py) as a reference."
   ]
  },
  {
   "cell_type": "markdown",
   "metadata": {},
   "source": [
    "### TODO 1.1: Implement forward pass of ReLU layer"
   ]
  },
  {
   "cell_type": "code",
   "execution_count": null,
   "metadata": {},
   "outputs": [],
   "source": [
    "tests.relu_forward_test()"
   ]
  },
  {
   "cell_type": "markdown",
   "metadata": {},
   "source": [
    "### TODO 1.2: Implement backward pass of ReLU layer"
   ]
  },
  {
   "cell_type": "code",
   "execution_count": null,
   "metadata": {},
   "outputs": [],
   "source": [
    "tests.relu_backward_test()"
   ]
  },
  {
   "cell_type": "markdown",
   "metadata": {},
   "source": [
    "# TODO 2: Implement [affine layer](http://localhost:8888/edit/layers/affine_layer.py)"
   ]
  },
  {
   "cell_type": "markdown",
   "metadata": {},
   "source": [
    "### TODO 2.1: Implement forward pass of affine layer"
   ]
  },
  {
   "cell_type": "code",
   "execution_count": null,
   "metadata": {},
   "outputs": [],
   "source": [
    "tests.affine_forward_test()"
   ]
  },
  {
   "cell_type": "markdown",
   "metadata": {},
   "source": [
    "### TODO 2.2: Implement backward pass of affine layer"
   ]
  },
  {
   "cell_type": "code",
   "execution_count": null,
   "metadata": {},
   "outputs": [],
   "source": [
    "tests.affine_backward_test()"
   ]
  },
  {
   "cell_type": "markdown",
   "metadata": {},
   "source": [
    "# TODO 3: Implement [cross-entropy softmax layer](http://localhost:8888/edit/layers/crossentropy_softmax_layer.py)"
   ]
  },
  {
   "cell_type": "markdown",
   "metadata": {},
   "source": [
    "### TODO 3.1: Implement softmax function of cross-entropy softmax layer "
   ]
  },
  {
   "cell_type": "code",
   "execution_count": null,
   "metadata": {},
   "outputs": [],
   "source": [
    "tests.crossentropy_softmax_softmax_test()"
   ]
  },
  {
   "cell_type": "markdown",
   "metadata": {},
   "source": [
    "### TODO 3.2: Implement crossentropy computation of the forward pass of cross-entropy softmax layer "
   ]
  },
  {
   "cell_type": "code",
   "execution_count": null,
   "metadata": {},
   "outputs": [],
   "source": [
    "tests.crossentropy_softmax_forward_test()"
   ]
  },
  {
   "cell_type": "markdown",
   "metadata": {},
   "source": [
    "### TODO 3.3: Implement backward pass of cross entropy softmax layer"
   ]
  },
  {
   "cell_type": "code",
   "execution_count": null,
   "metadata": {},
   "outputs": [],
   "source": [
    "tests.crossentropy_softmax_backward_test()"
   ]
  },
  {
   "cell_type": "markdown",
   "metadata": {},
   "source": [
    "# TODO 4: Implement apply_gradient_descent_step function (backpropagation) of the multilayer perceptron training."
   ]
  },
  {
   "cell_type": "code",
   "execution_count": null,
   "metadata": {},
   "outputs": [],
   "source": [
    "tests.apply_gradient_descent_step_test()"
   ]
  },
  {
   "cell_type": "markdown",
   "metadata": {},
   "source": [
    "## Finally you can run your network"
   ]
  },
  {
   "cell_type": "code",
   "execution_count": null,
   "metadata": {},
   "outputs": [],
   "source": [
    "import mlp\n",
    "net = mlp.Mlp()\n",
    "net.run()"
   ]
  }
 ],
 "metadata": {
  "kernelspec": {
   "display_name": "Python 3.8.10 64-bit",
   "language": "python",
   "name": "python3"
  },
  "language_info": {
   "codemirror_mode": {
    "name": "ipython",
    "version": 3
   },
   "file_extension": ".py",
   "mimetype": "text/x-python",
   "name": "python",
   "nbconvert_exporter": "python",
   "pygments_lexer": "ipython3",
   "version": "3.8.10"
  },
  "vscode": {
   "interpreter": {
    "hash": "916dbcbb3f70747c44a77c7bcd40155683ae19c65e1c03b4aa3499c5328201f1"
   }
  }
 },
 "nbformat": 4,
 "nbformat_minor": 2
}
