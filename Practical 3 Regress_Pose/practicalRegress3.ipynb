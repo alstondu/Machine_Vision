{
 "cells": [
  {
   "cell_type": "markdown",
   "metadata": {},
   "source": [
    "## practicalRegress3\n",
    "\n",
    "\n",
    "The goal of this practical is to implement non-linear regression method\n",
    "\n",
    "Work your way through these examples filling in code where it says\n",
    "\"TO DO\"\n"
   ]
  },
  {
   "cell_type": "code",
   "execution_count": 14,
   "metadata": {},
   "outputs": [],
   "source": [
    "import os \n",
    "import numpy as np\n",
    "import matplotlib.pyplot as plt\n",
    "import scipy.io as spio\n",
    "import scipy\n",
    "from numpy import sqrt, pi, exp, transpose, matmul\n",
    "from numpy.linalg import det, inv\n",
    "\n",
    "# %matplotlib notebook\n",
    "%matplotlib inline"
   ]
  },
  {
   "cell_type": "markdown",
   "metadata": {},
   "source": [
    "\n",
    "## TO DO \n",
    "** First run this file(all cells). It implements linear regression on a dataset that is clearly not very linear. \n",
    "It's a horrible fit! **\n",
    "\n",
    "** Your job is to improve this by doing non-linear regression (as in Figure 8.6). **\n"
   ]
  },
  {
   "cell_type": "code",
   "execution_count": 15,
   "metadata": {},
   "outputs": [],
   "source": [
    "#load data\n",
    "X = spio.loadmat('nonLinearData.mat')['X']\n",
    "w = spio.loadmat('nonLinearData.mat', squeeze_me=True)['w']\n"
   ]
  },
  {
   "cell_type": "code",
   "execution_count": 16,
   "metadata": {},
   "outputs": [],
   "source": [
    "#The goal of this method is to pass the data through a non-linear transformation\n",
    "def nonLinearTransform(X):\n",
    "\n",
    "    #TO DO \n",
    "    #FIRST REMOVE THESE TWO LINES\n",
    "    X2 = X\n",
    "    return X\n",
    "    \n",
    "    #-------------------\n",
    "    nDim,nData = X.shape\n",
    "\n",
    "    #create space for output data\n",
    "    X2 = np.zeros((6,nData))\n",
    "    \n",
    "    #For each data point\n",
    "    for cData in range(nData):\n",
    "        thisX = X[:,cData]\n",
    "\n",
    "        #TO DO: perform non-linear transformation on thisX:\n",
    "        #To do this evaluate this X against the 6 RBF functions in Figure 8.6b \n",
    "        #They are 6 Gaussians with means\n",
    "        # -2.5 -1.5 -0.5 0.5 1.5 and 2.5, and variances of 0.16;\n",
    "        \n",
    "        #Replace this:\n",
    "        transformedX = np.random.randn(6,1)\n",
    "        \n",
    "        #store\n",
    "        X2[:,cData] = transformedX\n",
    "\n",
    "\n",
    "    # checking for size of X2\n",
    "    if not ( X2.shape == (6, nData) ):\n",
    "        raise ValueError('X2 should have dimensions 6 x nData')\n",
    "    else:\n",
    "        pass\n",
    "    \n",
    "    return X2\n",
    "    "
   ]
  },
  {
   "cell_type": "code",
   "execution_count": 17,
   "metadata": {},
   "outputs": [],
   "source": [
    "#The goal of this routine is to take data X and w and fit the three\n",
    "#parameters of the linear regression model\n",
    "def fitLinearRegressionML(X,w):\n",
    "\n",
    "    #number of data points \n",
    "    nDim,nData = X.shape\n",
    "\n",
    "    #add a one to the start of each data example x\n",
    "    X = np.vstack([np.ones((1,nData)) ,X])\n",
    "    \n",
    "    #compute phi vector (contains offset and slope)\n",
    "    phi = inv(X@X.transpose())@X@w\n",
    "\n",
    "    #extract the slope and offset from this vector\n",
    "    offsetEst = phi[0]\n",
    "    slopeEst = phi[1:]\n",
    "\n",
    "    #compute the variance parameter\n",
    "    Xt=X.transpose()\n",
    "    noiseEst = (w-Xt@phi).transpose()@(w-Xt@phi)/nData;\n",
    "        \n",
    "    return offsetEst,slopeEst,noiseEst\n"
   ]
  },
  {
   "cell_type": "code",
   "execution_count": 18,
   "metadata": {},
   "outputs": [
    {
     "data": {
      "image/png": "[encoded data removed]",
      "text/plain": [
       "<Figure size 432x288 with 1 Axes>"
      ]
     },
     "metadata": {
      "needs_background": "light"
     },
     "output_type": "display_data"
    }
   ],
   "source": [
    "#display this data\n",
    "fig=plt.figure()\n",
    "plt.plot(X[0,:],w.squeeze(),'r.')\n",
    "plt.xlabel('Data, X')\n",
    "plt.ylabel('World, w')\n",
    "fig.axes[0].set_xlim(-3,3)\n",
    "fig.axes[0].set_ylim(-1.5,1.5)\n",
    "plt.show()\n"
   ]
  },
  {
   "cell_type": "code",
   "execution_count": 19,
   "metadata": {},
   "outputs": [
    {
     "data": {
      "image/png": "[encoded data removed]",
      "text/plain": [
       "<Figure size 432x288 with 1 Axes>"
      ]
     },
     "metadata": {
      "needs_background": "light"
     },
     "output_type": "display_data"
    }
   ],
   "source": [
    "#TO DO \n",
    "#To implement non-linear regression, we simply pass the data through\n",
    "#a non-linearity before we do the regression\n",
    "#Fill in the routine (above cell)\n",
    "XTransform = nonLinearTransform(X);\n",
    "\n",
    "#now the problem is to fit the data\n",
    "offsetEst,slopeEst,noiseEst = fitLinearRegressionML(XTransform,w);\n",
    "\n",
    "#Let's make some draw a figure to show the posterior probability \n",
    "#of the world as a function of the data\n",
    "#For every x, the model predicts a normal distribution over w\n",
    "X2=np.arange(-3,3.001,step=0.01) \n",
    "X2=X2[np.newaxis,:] # => (nDim,nData) \n",
    "X2Transform = nonLinearTransform(X2)\n",
    "\n",
    "#Compute the mean and variance of the prediction for each element of X2.  \n",
    "predMean=slopeEst.transpose()@X2Transform+offsetEst\n",
    "predMean=predMean.squeeze()\n",
    "predVar=noiseEst*np.ones(X2Transform.shape[1])\n",
    "predVar=predVar.squeeze()\n",
    "\n",
    "#compute the pixel colours for the image - one Gaussian in each column\n",
    "wFig = np.arange(-1.5,1.5001,step=0.01) \n",
    "postFun = np.zeros((wFig.size,X2.shape[1]))\n",
    "for cX in range(X2.shape[1]):\n",
    "    postFun[:,cX]=(1/np.sqrt(2*np.pi*predVar[cX]))*np.exp(-0.5 *((wFig-predMean[cX])**2)/predVar[cX])\n",
    "    \n",
    "\n",
    "# draw the figure\n",
    "fig=plt.figure()\n",
    "plt.imshow(postFun)\n",
    "plt.set_cmap('hot')\n",
    "plt.gca().invert_yaxis() \n",
    "\n",
    "\n",
    "#draw the points on top - they need to be rescaled so that they are in the \n",
    "#units of the pixels used to draw the picture\n",
    "plt.plot(((X-X2[0,0])/(X2[0,1]-X2[0,0])).squeeze(), (w.transpose()-wFig[0])/(wFig[1]-wFig[0]),'bo')\n",
    "\n",
    "#draw the units on the graph\n",
    "ax0=fig.axes[0]\n",
    "ax0.set_xticks([1,X2.shape[1]])\n",
    "ax0.set_xticklabels([0,1])\n",
    "ax0.set_yticks([1,wFig.size])\n",
    "ax0.set_yticklabels([0,1])\n",
    "ax0.set_aspect('auto')\n",
    "plt.xlabel('x')\n",
    "plt.ylabel('w')\n",
    "plt.title('Pr(w|x)')\n",
    "plt.show()\n",
    "\n",
    "#TO DO\n",
    "#When you've got this working you could try change this to work with the \n",
    "#arc tan functions if you like (figure 8.7)\n",
    "# Note: Try some parameters, see if you can find better ones by trial and error. \n",
    "# Wouldn't it be nice to have a huge (or infinite?) set of basis functions? \n",
    "# Possible with Gaussian Process Regression!\n"
   ]
  },
  {
   "cell_type": "code",
   "execution_count": null,
   "metadata": {
    "collapsed": true
   },
   "outputs": [],
   "source": []
  }
 ],
 "metadata": {
  "kernelspec": {
   "display_name": "Python 3",
   "language": "python",
   "name": "python3"
  },
  "language_info": {
   "codemirror_mode": {
    "name": "ipython",
    "version": 3
   },
   "file_extension": ".py",
   "mimetype": "text/x-python",
   "name": "python",
   "nbconvert_exporter": "python",
   "pygments_lexer": "ipython3",
   "version": "3.9.12"
  }
 },
 "nbformat": 4,
 "nbformat_minor": 2
}
